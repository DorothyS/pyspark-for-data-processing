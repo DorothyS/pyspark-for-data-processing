{
 "cells": [
  {
   "cell_type": "code",
   "execution_count": null,
   "metadata": {},
   "outputs": [],
   "source": [
    "# Import the libraries we need\n",
    "from os import getcwd, listdir\n",
    "from os.path import abspath, dirname, isfile, join, splitext\n",
    "import pandas as pd\n",
    "from pivottablejs import pivot_ui"
   ]
  },
  {
   "cell_type": "code",
   "execution_count": null,
   "metadata": {},
   "outputs": [],
   "source": [
    "# Get the output directory for the csv file\n",
    "output_folder_name = 'q2_most_polluted_county'   # TODO: Update this if needed\n",
    "output_dir = abspath(join(getcwd(), '..', 'data', output_folder_name))"
   ]
  },
  {
   "cell_type": "code",
   "execution_count": null,
   "metadata": {},
   "outputs": [],
   "source": [
    "# Create a list of csv files in the output directory\n",
    "csv_files = [join(output_dir, f) for f in listdir(output_dir) if isfile(join(output_dir, f)) and \n",
    "             splitext(join(output_dir, f))[1] == '.csv']\n",
    "print(\"{} csv files found\".format(len(csv_files)))"
   ]
  },
  {
   "cell_type": "code",
   "execution_count": null,
   "metadata": {},
   "outputs": [],
   "source": [
    "# Create a single csv file from the output csv files\n",
    "output_file = join(output_dir, 'q2_output.csv')\n",
    "\n",
    "with open(output_file, 'w') as o_file:\n",
    "    for num in range(0, len(csv_files)):\n",
    "        with open(csv_files[num], 'r') as f:\n",
    "            if num == 0:\n",
    "                lines = f.readlines()\n",
    "            else:\n",
    "                lines = f.readlines()[1:]\n",
    "            for line in lines:\n",
    "                 o_file.write(line)"
   ]
  },
  {
   "cell_type": "code",
   "execution_count": null,
   "metadata": {},
   "outputs": [],
   "source": [
    "# Create a Pandas DataFrame from the csv file\n",
    "df = pd.read_csv(output_file, header=None, names=['arithmetic_mean', 'parameter_name', 'state', 'county'])\n",
    "df.head()"
   ]
  },
  {
   "cell_type": "code",
   "execution_count": null,
   "metadata": {},
   "outputs": [],
   "source": [
    "# Get the row and column counts\n",
    "rows_cols = df.shape\n",
    "print(\"Rows: {}\".format(rows_cols[0]))\n",
    "print(\"Columns: {}\".format(rows_cols[1]))"
   ]
  },
  {
   "cell_type": "code",
   "execution_count": null,
   "metadata": {},
   "outputs": [],
   "source": [
    "# Create a PivotTable using pivottable.js\n",
    "pivot_ui(df)"
   ]
  },
  {
   "cell_type": "code",
   "execution_count": null,
   "metadata": {},
   "outputs": [],
   "source": []
  }
 ],
 "metadata": {
  "kernelspec": {
   "display_name": "Python 3",
   "language": "python",
   "name": "python3"
  },
  "language_info": {
   "codemirror_mode": {
    "name": "ipython",
    "version": 3
   },
   "file_extension": ".py",
   "mimetype": "text/x-python",
   "name": "python",
   "nbconvert_exporter": "python",
   "pygments_lexer": "ipython3",
   "version": "3.6.3"
  }
 },
 "nbformat": 4,
 "nbformat_minor": 2
}
