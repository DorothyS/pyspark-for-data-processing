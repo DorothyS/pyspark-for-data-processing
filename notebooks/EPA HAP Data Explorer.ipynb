{
 "cells": [
  {
   "cell_type": "markdown",
   "metadata": {},
   "source": [
    "## EPA HAP Data Explorer\n",
    "\n",
    "Explore the data contained in the EPA Hazardous Air Pollutants dataset. This dataset contains a summary of daily Hazardous Air Pollutants from 1990 to 2017.\n",
    "\n",
    "Download the data from [Kaggle](https://www.kaggle.com/epa/hazardous-air-pollutants)."
   ]
  },
  {
   "cell_type": "code",
   "execution_count": null,
   "metadata": {},
   "outputs": [],
   "source": [
    "import pandas as pd\n",
    "from pivottablejs import pivot_ui"
   ]
  },
  {
   "cell_type": "code",
   "execution_count": null,
   "metadata": {},
   "outputs": [],
   "source": [
    "# CHANGE THIS TO THE LOCATION OF THE FILE\n",
    "csv_file = \"/Users/robert.dempsey/Downloads/epa_hap_daily_summary.csv\""
   ]
  },
  {
   "cell_type": "code",
   "execution_count": null,
   "metadata": {},
   "outputs": [],
   "source": [
    "hap_df = pd.DataFrame.from_csv(csv_file)"
   ]
  },
  {
   "cell_type": "code",
   "execution_count": null,
   "metadata": {},
   "outputs": [],
   "source": [
    "# Get the row and column counts\n",
    "rows_cols = hap_df.shape\n",
    "print(\"Rows: {}\".format(rows_cols[0]))\n",
    "print(\"Columns: {}\".format(rows_cols[1]))"
   ]
  },
  {
   "cell_type": "code",
   "execution_count": null,
   "metadata": {},
   "outputs": [],
   "source": [
    "# List the columns and their types\n",
    "hap_df.dtypes"
   ]
  },
  {
   "cell_type": "code",
   "execution_count": null,
   "metadata": {},
   "outputs": [],
   "source": [
    "# Show summary statistics\n",
    "hap_df.describe()"
   ]
  },
  {
   "cell_type": "code",
   "execution_count": null,
   "metadata": {},
   "outputs": [],
   "source": [
    "# View the last five rows of the dataframe\n",
    "hap_df.tail()"
   ]
  },
  {
   "cell_type": "code",
   "execution_count": null,
   "metadata": {},
   "outputs": [],
   "source": [
    "# Print all columns and values for the last row in the dataset\n",
    "hap_df.tail(1).to_dict(orient='records')"
   ]
  },
  {
   "cell_type": "code",
   "execution_count": null,
   "metadata": {},
   "outputs": [],
   "source": [
    "# Check to see if there are any null values in any of the columns\n",
    "null_values_present = hap_df.isnull().values.any()\n",
    "\n",
    "if null_values_present:\n",
    "    nan_rows = hap_df[hap_df.isnull().T.any().T]\n",
    "    print(\"Rows with empty values: {}\".format(len(nan_rows)))\n",
    "    print(\"Filling empty values\")\n",
    "    hap_df.fillna(0, inplace=True)\n",
    "    print(\"Empty values filled\")"
   ]
  },
  {
   "cell_type": "code",
   "execution_count": null,
   "metadata": {},
   "outputs": [],
   "source": [
    "# Create a dataframe from the last 60 rows and use PivotTable.js to view the data\n",
    "hap_pivot_df = hap_df.tail(60)\n",
    "\n",
    "# Create a column from the timestamp index and create a new numerical index\n",
    "hap_pivot_df.reset_index(level=0, inplace=True)\n",
    "\n",
    "# Show the pivot table\n",
    "pivot_ui(hap_pivot_df)"
   ]
  },
  {
   "cell_type": "code",
   "execution_count": null,
   "metadata": {},
   "outputs": [],
   "source": []
  }
 ],
 "metadata": {
  "kernelspec": {
   "display_name": "Python 3",
   "language": "python",
   "name": "python3"
  },
  "language_info": {
   "codemirror_mode": {
    "name": "ipython",
    "version": 3
   },
   "file_extension": ".py",
   "mimetype": "text/x-python",
   "name": "python",
   "nbconvert_exporter": "python",
   "pygments_lexer": "ipython3",
   "version": "3.6.3"
  }
 },
 "nbformat": 4,
 "nbformat_minor": 2
}
