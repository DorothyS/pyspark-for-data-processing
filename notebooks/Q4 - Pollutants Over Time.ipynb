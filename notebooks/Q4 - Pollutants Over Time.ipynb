{
 "cells": [
  {
   "cell_type": "code",
   "execution_count": null,
   "metadata": {},
   "outputs": [],
   "source": [
    "# Import the libraries we need\n",
    "from os import getcwd, listdir\n",
    "from os.path import abspath, dirname, isfile, join, splitext\n",
    "import pandas as pd\n",
    "import time\n",
    "import datetime\n",
    "import matplotlib.pyplot as plt\n",
    "\n",
    "%matplotlib inline"
   ]
  },
  {
   "cell_type": "code",
   "execution_count": null,
   "metadata": {},
   "outputs": [],
   "source": [
    "# Get the output directory for the csv file\n",
    "output_folder_name = 'q4_pollutants_over_time'   # TODO: Update this if needed\n",
    "output_dir = abspath(join(getcwd(), '..', 'data', output_folder_name))"
   ]
  },
  {
   "cell_type": "code",
   "execution_count": null,
   "metadata": {},
   "outputs": [],
   "source": [
    "# Create a list of csv files in the output directory\n",
    "csv_files = [join(output_dir, f) for f in listdir(output_dir) if isfile(join(output_dir, f)) and \n",
    "             splitext(join(output_dir, f))[1] == '.csv']\n",
    "print(\"{} csv files found\".format(len(csv_files)))"
   ]
  },
  {
   "cell_type": "code",
   "execution_count": null,
   "metadata": {},
   "outputs": [],
   "source": [
    "# Create a single csv file from the output csv files\n",
    "output_file = join(output_dir, 'q4_output.csv')\n",
    "\n",
    "with open(output_file, 'w') as o_file:\n",
    "    for num in range(0, len(csv_files)):\n",
    "        with open(csv_files[num], 'r') as f:\n",
    "            if num == 0:\n",
    "                lines = f.readlines()\n",
    "            else:\n",
    "                lines = f.readlines()[1:]\n",
    "            for line in lines:\n",
    "                 o_file.write(line)"
   ]
  },
  {
   "cell_type": "code",
   "execution_count": null,
   "metadata": {},
   "outputs": [],
   "source": [
    "# Create a Pandas DataFrame from the csv file\n",
    "df = pd.read_csv(output_file,\n",
    "                 names=['parameter_name', 'state', 'year', 'month', 'arithmetic_mean'],\n",
    "                 header=0,\n",
    "                 low_memory=False)\n",
    "df.head()"
   ]
  },
  {
   "cell_type": "code",
   "execution_count": null,
   "metadata": {},
   "outputs": [],
   "source": [
    "# Get the row and column counts\n",
    "rows_cols = df.shape\n",
    "print(\"Rows: {}\".format(rows_cols[0]))\n",
    "print(\"Columns: {}\".format(rows_cols[1]))"
   ]
  },
  {
   "cell_type": "code",
   "execution_count": null,
   "metadata": {},
   "outputs": [],
   "source": [
    "# Describe the dataframe\n",
    "df.describe()"
   ]
  },
  {
   "cell_type": "code",
   "execution_count": null,
   "metadata": {},
   "outputs": [],
   "source": [
    "# Check the data types\n",
    "df.dtypes"
   ]
  },
  {
   "cell_type": "markdown",
   "metadata": {},
   "source": [
    "## California Analysis"
   ]
  },
  {
   "cell_type": "code",
   "execution_count": null,
   "metadata": {},
   "outputs": [],
   "source": [
    "# Create a dataframe for California\n",
    "state_for_analysis = 'California'\n",
    "cali_df = df.loc[df['state'] == state_for_analysis]\n",
    "cali_df.head()"
   ]
  },
  {
   "cell_type": "code",
   "execution_count": null,
   "metadata": {},
   "outputs": [],
   "source": [
    "# How many parameters are measured in California?\n",
    "cali_measured_params = cali_df.parameter_name.unique()\n",
    "print(len(cali_measured_params))"
   ]
  },
  {
   "cell_type": "code",
   "execution_count": null,
   "metadata": {},
   "outputs": [],
   "source": [
    "# Count of occurrences of each parameter\n",
    "cali_df.groupby('parameter_name')['state'].count()"
   ]
  },
  {
   "cell_type": "code",
   "execution_count": null,
   "metadata": {},
   "outputs": [],
   "source": [
    "# Verify the ccurrence count of 1122-Tetrachloroethane in the Cali dataframe\n",
    "df2 = cali_df.loc[cali_df['parameter_name'] == '1122-Tetrachloroethane']\n",
    "len(df2)"
   ]
  },
  {
   "cell_type": "code",
   "execution_count": null,
   "metadata": {},
   "outputs": [],
   "source": [
    "# Add a date column to the dataframe by combining the month and year columns\n",
    "pd.options.mode.chained_assignment = None\n",
    "\n",
    "def create_datetime(year, month):\n",
    "    return datetime.datetime(year=year, month=month, day=1)\n",
    "\n",
    "cali_df['observation_date'] = cali_df.apply(lambda x: create_datetime(x['year'], x['month']), axis=1)\n",
    "cali_df.head()"
   ]
  },
  {
   "cell_type": "code",
   "execution_count": null,
   "metadata": {},
   "outputs": [],
   "source": [
    "# Drop the state, year and month columns\n",
    "cali_df.drop('state', axis=1, inplace=True)\n",
    "cali_df.drop('year', axis=1, inplace=True)\n",
    "cali_df.drop('month', axis=1, inplace=True)\n",
    "\n",
    "# Set the observation_date column as the index to we can create some charty goodness\n",
    "cali_df.set_index('observation_date', inplace=True)\n",
    "\n",
    "cali_df.head()"
   ]
  },
  {
   "cell_type": "code",
   "execution_count": null,
   "metadata": {},
   "outputs": [],
   "source": [
    "# Chart this bad boy!\n",
    "parameter_to_chart = '1122-Tetrachloroethane'\n",
    "cali_df.loc[cali_df['parameter_name'] == parameter_to_chart].plot()"
   ]
  },
  {
   "cell_type": "code",
   "execution_count": null,
   "metadata": {},
   "outputs": [],
   "source": [
    "# Want a histogram?! Okay!\n",
    "cali_df.loc[cali_df['parameter_name'] == parameter_to_chart].hist(alpha=0.5)"
   ]
  },
  {
   "cell_type": "code",
   "execution_count": null,
   "metadata": {},
   "outputs": [],
   "source": [
    "# MOAR CHARTS!\n",
    "parameter_to_chart = 'Tetrachloroethylene'\n",
    "cali_df.loc[cali_df['parameter_name'] == parameter_to_chart].plot()"
   ]
  },
  {
   "cell_type": "code",
   "execution_count": null,
   "metadata": {},
   "outputs": [],
   "source": []
  }
 ],
 "metadata": {
  "kernelspec": {
   "display_name": "Python 3",
   "language": "python",
   "name": "python3"
  },
  "language_info": {
   "codemirror_mode": {
    "name": "ipython",
    "version": 3
   },
   "file_extension": ".py",
   "mimetype": "text/x-python",
   "name": "python",
   "nbconvert_exporter": "python",
   "pygments_lexer": "ipython3",
   "version": "3.6.3"
  }
 },
 "nbformat": 4,
 "nbformat_minor": 2
}
