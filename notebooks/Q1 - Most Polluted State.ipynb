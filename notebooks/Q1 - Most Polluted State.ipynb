{
 "cells": [
  {
   "cell_type": "code",
   "execution_count": null,
   "metadata": {},
   "outputs": [],
   "source": [
    "# Import the libraries we need\n",
    "from os import getcwd, listdir\n",
    "from os.path import abspath, join\n",
    "import pandas as pd\n",
    "from pivottablejs import pivot_ui"
   ]
  },
  {
   "cell_type": "code",
   "execution_count": null,
   "metadata": {},
   "outputs": [],
   "source": [
    "# Get the output directory for the csv file\n",
    "output_dir = abspath(join(getcwd(), '..', 'data'))\n",
    "\n",
    "# Get the full path to the output file\n",
    "output_file = join(output_dir, 'q1_most_polluted_state.csv')"
   ]
  },
  {
   "cell_type": "code",
   "execution_count": null,
   "metadata": {},
   "outputs": [],
   "source": [
    "# Create a Pandas DataFrame from the csv file\n",
    "q1_df = pd.DataFrame.from_csv(output_file)"
   ]
  },
  {
   "cell_type": "code",
   "execution_count": null,
   "metadata": {},
   "outputs": [],
   "source": [
    "# Get the row and column counts\n",
    "rows_cols = q1_df.shape\n",
    "print(\"Rows: {}\".format(rows_cols[0]))\n",
    "print(\"Columns: {}\".format(rows_cols[1]))"
   ]
  },
  {
   "cell_type": "code",
   "execution_count": null,
   "metadata": {},
   "outputs": [],
   "source": [
    "# Show the dataframe\n",
    "q1_df.head()"
   ]
  },
  {
   "cell_type": "code",
   "execution_count": null,
   "metadata": {},
   "outputs": [],
   "source": [
    "# Reset the index so the parameter name is not used as the index\n",
    "q1_df.reset_index(level=0, inplace=True)\n",
    "\n",
    "# Rename the column from index to parameter_name\n",
    "q1_df = q1_df.rename(columns={'index': 'parameter_name'})\n",
    "\n",
    "# Create a PivotTable using pivottable.js\n",
    "pivot_ui(q1_df)"
   ]
  },
  {
   "cell_type": "code",
   "execution_count": null,
   "metadata": {},
   "outputs": [],
   "source": []
  }
 ],
 "metadata": {
  "kernelspec": {
   "display_name": "Python 3",
   "language": "python",
   "name": "python3"
  },
  "language_info": {
   "codemirror_mode": {
    "name": "ipython",
    "version": 3
   },
   "file_extension": ".py",
   "mimetype": "text/x-python",
   "name": "python",
   "nbconvert_exporter": "python",
   "pygments_lexer": "ipython3",
   "version": "3.6.3"
  }
 },
 "nbformat": 4,
 "nbformat_minor": 2
}
