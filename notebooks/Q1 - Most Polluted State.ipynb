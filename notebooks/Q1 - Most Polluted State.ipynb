{
 "cells": [
  {
   "cell_type": "code",
   "execution_count": null,
   "metadata": {},
   "outputs": [],
   "source": [
    "# Import the libraries we need\n",
    "from os import getcwd, listdir\n",
    "from os.path import abspath, dirname, isfile, join, splitext\n",
    "import pandas as pd\n",
    "from pivottablejs import pivot_ui"
   ]
  },
  {
   "cell_type": "code",
   "execution_count": null,
   "metadata": {},
   "outputs": [],
   "source": [
    "# Get the output directory for the csv file\n",
    "output_dir = abspath(join(getcwd(), '..', 'data', 'q1_most_polluted_state'))"
   ]
  },
  {
   "cell_type": "code",
   "execution_count": null,
   "metadata": {},
   "outputs": [],
   "source": [
    "# Create a list of csv files in the output directory\n",
    "csv_files = [join(output_dir, f) for f in listdir(output_dir) if isfile(join(output_dir, f)) and \n",
    "             splitext(join(output_dir, f))[1] == '.csv']\n",
    "print(\"{} csv files found\".format(len(csv_files)))"
   ]
  },
  {
   "cell_type": "code",
   "execution_count": null,
   "metadata": {},
   "outputs": [],
   "source": [
    "# Create a single csv file from the output csv files\n",
    "output_file = join(output_dir, 'q1_output.csv')\n",
    "\n",
    "with open(output_file, 'a') as o_file:\n",
    "    for num in range(0, len(csv_files)):\n",
    "        with open(csv_files[num], 'r') as f:\n",
    "            if num == 0:\n",
    "                lines = f.readlines()\n",
    "            else:\n",
    "                lines = f.readlines()[1:]\n",
    "            for line in lines:\n",
    "                 o_file.write(line)"
   ]
  },
  {
   "cell_type": "code",
   "execution_count": null,
   "metadata": {},
   "outputs": [],
   "source": [
    "# Create a Pandas DataFrame from the csv file\n",
    "q1_df = pd.DataFrame.from_csv(output_file)\n",
    "\n",
    "# Reset the index so the state name is not used as the index\n",
    "q1_df.reset_index(level=0, inplace=True)"
   ]
  },
  {
   "cell_type": "code",
   "execution_count": null,
   "metadata": {},
   "outputs": [],
   "source": [
    "# Get the row and column counts\n",
    "rows_cols = q1_df.shape\n",
    "print(\"Rows: {}\".format(rows_cols[0]))\n",
    "print(\"Columns: {}\".format(rows_cols[1]))"
   ]
  },
  {
   "cell_type": "code",
   "execution_count": null,
   "metadata": {},
   "outputs": [],
   "source": [
    "# Show the first 5 rows\n",
    "q1_df.head()"
   ]
  },
  {
   "cell_type": "code",
   "execution_count": null,
   "metadata": {},
   "outputs": [],
   "source": [
    "# Sort the DataFrame by state_nameq1_df.sort_values(by=[\"state_name\", \"parameter_name\"], ascending=True, inplace=True)"
   ]
  },
  {
   "cell_type": "code",
   "execution_count": null,
   "metadata": {},
   "outputs": [],
   "source": [
    "# Pivot the dataframe so we see the count of each parameter_name by state\n",
    "pivoted = q1_df.pivot(index='state_name', columns='parameter_name', values='count')\n",
    "pivoted"
   ]
  },
  {
   "cell_type": "code",
   "execution_count": null,
   "metadata": {},
   "outputs": [],
   "source": [
    "# Create a PivotTable using pivottable.js\n",
    "pivot_ui(q1_df)"
   ]
  },
  {
   "cell_type": "markdown",
   "metadata": {},
   "source": [
    "## Notes\n",
    "\n",
    "* We didn't fill in any empty `count` columns because we want to see if the parameter_name is being measured in that location.\n",
    "* At this point we could sort each column to see which state has the highest value for each parameter_name, or write code to get the max value"
   ]
  },
  {
   "cell_type": "code",
   "execution_count": null,
   "metadata": {},
   "outputs": [],
   "source": [
    "# Get the max value for each parameter_name\n",
    "pivoted.max()"
   ]
  },
  {
   "cell_type": "code",
   "execution_count": null,
   "metadata": {},
   "outputs": [],
   "source": [
    "# MONEY!!!\n",
    "# Show the state with the highest value of each parameter_name\n",
    "pivoted = q1_df.pivot(index='state_name', columns='parameter_name', values='count')\n",
    "pivoted.idxmax()"
   ]
  },
  {
   "cell_type": "code",
   "execution_count": null,
   "metadata": {},
   "outputs": [],
   "source": []
  }
 ],
 "metadata": {
  "kernelspec": {
   "display_name": "Python 3",
   "language": "python",
   "name": "python3"
  },
  "language_info": {
   "codemirror_mode": {
    "name": "ipython",
    "version": 3
   },
   "file_extension": ".py",
   "mimetype": "text/x-python",
   "name": "python",
   "nbconvert_exporter": "python",
   "pygments_lexer": "ipython3",
   "version": "3.6.3"
  }
 },
 "nbformat": 4,
 "nbformat_minor": 2
}
